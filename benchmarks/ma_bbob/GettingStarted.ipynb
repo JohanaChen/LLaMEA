{
 "cells": [
  {
   "cell_type": "markdown",
   "metadata": {},
   "source": [
    "# Getting Started guide for Anytime MA-BBOB Competition\n",
    "\n",
    "This notebook is designed to guide you through the process of creating a submission for the GECCO competition on anytime algorithms for MA-BBOB. \n",
    "While this competition is built on the IOHprofiler suite, no prior knowledge of these tools is required. This notebook is standalone, so it will explain only the parts required for running and evaluating your algorithm. For more details on IOHprofiler, we refer to iohprofiler.github.io\n",
    "\n",
    "This notebook is structured as follows:\n",
    "- Installing the required dependencies\n",
    "- Accessing the MA-BBOB problems\n",
    "- Implementing your algorithm\n",
    "- Logging performance data\n",
    "- Analyzing the performance of your algorithms\n",
    "- Comparing your algorithm to the provided baselines\n"
   ]
  },
  {
   "cell_type": "markdown",
   "metadata": {},
   "source": [
    "## Step 1: Installing the required packages\n",
    "\n",
    "For accessing the MA-BBOB generator, we need the IOHexperimenter package, available on pypi as 'ioh'. \n",
    "\n",
    "For the later processing of the benchmark data, we will use the newly released IOHinspector package. This can be cloned and installed from GitHub directly, or installed as 'iohinspector' from pypi."
   ]
  },
  {
   "cell_type": "markdown",
   "metadata": {},
   "source": [
    "We will now load these packages, as well as some default packages which we will use for the example algorithm"
   ]
  },
  {
   "cell_type": "code",
   "execution_count": 1,
   "metadata": {},
   "outputs": [],
   "source": [
    "import iohinspector\n",
    "import ioh\n",
    "import numpy as np\n",
    "import pandas as pd\n",
    "import polars as pl\n",
    "from tqdm import tqdm # optional, for progress bars\n",
    "import os"
   ]
  },
  {
   "cell_type": "markdown",
   "metadata": {},
   "source": [
    "## Step 2: Accessing the MA-BBOB problems\n",
    "\n",
    "To access the MA-BBOB problems themselves, we use the IOHexperimenter. This can be done via `ioh.problem.ManyAffine`, which can either be instantiated using an instance number and problem dimensionality, or, for more direct control of the affine combination, using the location of the optimum, weigthing of the BBOB problems and their corresponding instances and finally the problem dimensionality. \n",
    "\n",
    "To allow for easy comparison with our baselines, we will use the provided files with full instance specifications, rather than the instance number approach. "
   ]
  },
  {
   "cell_type": "code",
   "execution_count": 2,
   "metadata": {},
   "outputs": [],
   "source": [
    "# Read in the instance specifications\n",
    "weights = pd.read_csv(\"weights.csv\", index_col=0)\n",
    "iids = pd.read_csv(\"iids.csv\", index_col=0)\n",
    "opt_locs = pd.read_csv(\"opt_locs.csv\", index_col=0)"
   ]
  },
  {
   "cell_type": "markdown",
   "metadata": {},
   "source": [
    "To illustrate the functionality of the returned problem, we start by creating the first instances of the problem in 2D. "
   ]
  },
  {
   "cell_type": "code",
   "execution_count": 3,
   "metadata": {},
   "outputs": [],
   "source": [
    "f = ioh.problem.ManyAffine(xopt = np.array(opt_locs.iloc[0])[:2], \n",
    "                                    weights = np.array(weights.iloc[0]),\n",
    "                                    instances = np.array(iids.iloc[0], dtype=int), \n",
    "                                    n_variables = 2)"
   ]
  },
  {
   "cell_type": "markdown",
   "metadata": {},
   "source": [
    "With this problem object, your algorithm can access important meta-data, such as the bounds and dimensionality "
   ]
  },
  {
   "cell_type": "code",
   "execution_count": 4,
   "metadata": {},
   "outputs": [
    {
     "data": {
      "text/plain": [
       "(array([-5., -5.]), array([5., 5.]), 2)"
      ]
     },
     "execution_count": 4,
     "metadata": {},
     "output_type": "execute_result"
    }
   ],
   "source": [
    "f.bounds.lb, f.bounds.ub, f.meta_data.n_variables"
   ]
  },
  {
   "cell_type": "markdown",
   "metadata": {},
   "source": [
    "For convenient processing / grouping, meta-data can also be modified after the problem has been loaded. This allows for example for the setting of custom problem and instance identifiers."
   ]
  },
  {
   "cell_type": "code",
   "execution_count": 5,
   "metadata": {},
   "outputs": [],
   "source": [
    "f.set_id(123)\n",
    "f.set_instance(1)"
   ]
  },
  {
   "cell_type": "markdown",
   "metadata": {},
   "source": [
    "## Step 3: Implementing your algorithm\n",
    "\n",
    "To use IOHexperimenter-based problems, there are no real requirements on your algorithm, since the problem behaves just like a normal python function, returning the function value when called with a candidate solution. Here, we implement a simple random search to illustrate how your algorithm can benefit from the meta-data provided by the problem."
   ]
  },
  {
   "cell_type": "code",
   "execution_count": 6,
   "metadata": {},
   "outputs": [],
   "source": [
    "class RandomSearch:\n",
    "    'Simple random search algorithm'\n",
    "    def __init__(self, budget_factor: int):\n",
    "        self.budget_factor: int = budget_factor\n",
    "        \n",
    "    def __call__(self, problem: ioh.problem.RealSingleObjective) -> None:\n",
    "        'Evaluate the problem `budget_factor * DIM` times with a randomly generated solution'\n",
    "        \n",
    "        for _ in range(self.budget_factor * problem.meta_data.n_variables):\n",
    "            # We can use the problems bounds accessor to get information about the problem bounds\n",
    "            x = np.random.uniform(problem.bounds.lb, problem.bounds.ub)            \n",
    "            problem(x)   "
   ]
  },
  {
   "cell_type": "code",
   "execution_count": 10,
   "metadata": {},
   "outputs": [],
   "source": [
    "import numpy as np\n",
    "\n",
    "\n",
    "class ERADS_QuantumFluxUltraRefined:\n",
    "    def __init__(\n",
    "        self,\n",
    "        budget_factor: int,\n",
    "        dim=5,\n",
    "        population_size=50,\n",
    "        F_init=0.55,\n",
    "        F_end=0.85,\n",
    "        CR=0.95,\n",
    "        memory_factor=0.3,\n",
    "    ):\n",
    "        self.budget = budget_factor * dim\n",
    "        self.population_size = population_size\n",
    "        self.F_init = F_init  # Initial scaling factor for mutation\n",
    "        self.F_end = F_end  # Final scaling factor for mutation, adjusting over time\n",
    "        self.CR = CR  # Crossover probability\n",
    "        self.dimension = dim\n",
    "        self.bounds = (-5.0, 5.0)  # Search space bounds\n",
    "        self.memory_factor = memory_factor  # Memory factor to guide mutation based on past successful steps\n",
    "\n",
    "    def __call__(self, func):\n",
    "        # Initialize population uniformly within the bounds\n",
    "        population = np.random.uniform(\n",
    "            self.bounds[0], self.bounds[1], (self.population_size, self.dimension)\n",
    "        )\n",
    "        fitness = np.array([func(ind) for ind in population])\n",
    "        best_index = np.argmin(fitness)\n",
    "        self.f_opt = fitness[best_index]\n",
    "        self.x_opt = population[best_index]\n",
    "        evaluations = self.population_size\n",
    "        memory = np.zeros(\n",
    "            self.dimension\n",
    "        )  # Initialize memory to store successful mutation directions\n",
    "\n",
    "        while evaluations < self.budget:\n",
    "            # Linear adaptation of the scaling factor over the course of optimization\n",
    "            F_current = self.F_init + (self.F_end - self.F_init) * (\n",
    "                evaluations / self.budget\n",
    "            )\n",
    "\n",
    "            for i in range(self.population_size):\n",
    "                # Selection of three distinct random population indices different from current index i\n",
    "                indices = np.random.choice(\n",
    "                    [j for j in range(self.population_size) if j != i], 3, replace=False\n",
    "                )\n",
    "                x1, x2, x3 = population[indices]\n",
    "                best = population[best_index]\n",
    "\n",
    "                # Creation of the mutant vector incorporating memory of past successful mutations\n",
    "                mutant = x1 + F_current * (\n",
    "                    best - x1 + x2 - x3 + self.memory_factor * memory\n",
    "                )\n",
    "                mutant = np.clip(\n",
    "                    mutant, self.bounds[0], self.bounds[1]\n",
    "                )  # Ensure mutant remains within bounds\n",
    "\n",
    "                # Crossover operation to generate trial vector\n",
    "                trial = np.where(\n",
    "                    np.random.rand(self.dimension) < self.CR, mutant, population[i]\n",
    "                )\n",
    "                f_trial = func(trial)\n",
    "                evaluations += 1\n",
    "\n",
    "                # Selection: Replace the old vector if the trial vector has better fitness\n",
    "                if f_trial < fitness[i]:\n",
    "                    population[i] = trial\n",
    "                    fitness[i] = f_trial\n",
    "                    if f_trial < self.f_opt:\n",
    "                        self.f_opt = f_trial\n",
    "                        self.x_opt = trial\n",
    "                        best_index = i  # Update the index of the best solution found\n",
    "\n",
    "                    # Update memory with the successful mutation direction scaled by F_current\n",
    "                    memory = (\n",
    "                        1 - self.memory_factor\n",
    "                    ) * memory + self.memory_factor * F_current * (\n",
    "                        mutant - population[i]\n",
    "                    )\n",
    "\n",
    "                if evaluations >= self.budget:\n",
    "                    break\n",
    "\n",
    "        return self.f_opt, self.x_opt\n"
   ]
  },
  {
   "cell_type": "markdown",
   "metadata": {},
   "source": [
    "## Step 4: Data Collection\n",
    "\n",
    "To run your algorithm and log the performance data, IOHexperimenter provides a `logger` object. This can be heavily customized, but for the purposes of running your algorithm on the MA-BBOB suite most settings can be kept at their defaults. We only modify the location where the data is stored, the name of the folder and the name of the algorithm we are logging. "
   ]
  },
  {
   "cell_type": "code",
   "execution_count": 11,
   "metadata": {},
   "outputs": [],
   "source": [
    "logger = ioh.logger.Analyzer(\n",
    "        root=os.getcwd(),                  # Store data in the current working directory\n",
    "        folder_name=\"ERADS_QuantumFluxUltraRefined\",       # in a folder named: 'RS_Test'\n",
    "        algorithm_name=\"ERADS_QuantumFluxUltraRefined\",    # meta-data for the algorithm used to generate these results\n",
    "    )"
   ]
  },
  {
   "cell_type": "markdown",
   "metadata": {},
   "source": [
    "With this logger, we can now loop over the required problems (from the instance-data we loaded in step 2) and run our algorithm"
   ]
  },
  {
   "cell_type": "code",
   "execution_count": 12,
   "metadata": {},
   "outputs": [
    {
     "name": "stderr",
     "output_type": "stream",
     "text": [
      "100%|██████████████████████████████████████████████████████████████████████████████████████████████████████████████████████████████████████████████████████████| 100/100 [00:28<00:00,  3.54it/s]\n",
      "100%|██████████████████████████████████████████████████████████████████████████████████████████████████████████████████████████████████████████████████████████| 100/100 [01:18<00:00,  1.27it/s]\n"
     ]
    }
   ],
   "source": [
    "for dim in [2,5]: # Dimensionality settings\n",
    "    for idx in tqdm(range(100)): # Loop over all instances in our data files\n",
    "        RS = ERADS_QuantumFluxUltraRefined(budget_factor=2000, dim=dim) \n",
    "        f_new = ioh.problem.ManyAffine(xopt = np.array(opt_locs.iloc[idx])[:dim], \n",
    "                                    weights = np.array(weights.iloc[idx]),\n",
    "                                    instances = np.array(iids.iloc[idx], dtype=int), \n",
    "                                    n_variables = dim)\n",
    "        f_new.set_id(100)\n",
    "        f_new.set_instance(idx)\n",
    "        f_new.attach_logger(logger)\n",
    "            \n",
    "        RS(f_new)\n",
    "        f_new.reset()\n",
    "logger.close()"
   ]
  },
  {
   "cell_type": "markdown",
   "metadata": {},
   "source": [
    "## Step 5: Loading the benchmark data\n",
    "\n",
    "To process the data from the experiments, we can use the new IOHinspector package, which provides access to a variety of analysis methods in the form of a python package. Of course, the IOHanalyzer webpage can also be used for this purpose.\n",
    "\n",
    "IOHinspector works by first creating a `DataManager` object, which we then point to the folders we want to include in the analysis. "
   ]
  },
  {
   "cell_type": "code",
   "execution_count": 32,
   "metadata": {},
   "outputs": [],
   "source": [
    "manager = iohinspector.DataManager()\n",
    "manager.add_folder(\"RS_Test\")\n",
    "manager.add_folder(\"ERADS_QuantumFluxUltraRefined\")"
   ]
  },
  {
   "cell_type": "markdown",
   "metadata": {},
   "source": [
    "This object keeps track of the meta-data, and can be used to e.g. filter data before loading the underlying performance files into memory."
   ]
  },
  {
   "cell_type": "code",
   "execution_count": 33,
   "metadata": {},
   "outputs": [
    {
     "data": {
      "text/html": [
       "<div><style>\n",
       ".dataframe > thead > tr,\n",
       ".dataframe > tbody > tr {\n",
       "  text-align: right;\n",
       "  white-space: pre-wrap;\n",
       "}\n",
       "</style>\n",
       "<small>shape: (200, 11)</small><table border=\"1\" class=\"dataframe\"><thead><tr><th>data_id</th><th>algorithm_name</th><th>algorithm_info</th><th>suite</th><th>function_name</th><th>function_id</th><th>dimension</th><th>instance</th><th>run_id</th><th>evals</th><th>best_y</th></tr><tr><td>u64</td><td>str</td><td>str</td><td>str</td><td>str</td><td>u16</td><td>u16</td><td>u16</td><td>u32</td><td>u64</td><td>f64</td></tr></thead><tbody><tr><td>1</td><td>&quot;RandomSearch&quot;</td><td>&quot;algorithm_info&quot;</td><td>&quot;unknown_suite&quot;</td><td>&quot;ManyAffine&quot;</td><td>100</td><td>2</td><td>0</td><td>1</td><td>4000</td><td>0.00091</td></tr><tr><td>2</td><td>&quot;RandomSearch&quot;</td><td>&quot;algorithm_info&quot;</td><td>&quot;unknown_suite&quot;</td><td>&quot;ManyAffine&quot;</td><td>100</td><td>2</td><td>1</td><td>2</td><td>4000</td><td>0.000613</td></tr><tr><td>3</td><td>&quot;RandomSearch&quot;</td><td>&quot;algorithm_info&quot;</td><td>&quot;unknown_suite&quot;</td><td>&quot;ManyAffine&quot;</td><td>100</td><td>2</td><td>2</td><td>3</td><td>4000</td><td>0.008406</td></tr><tr><td>4</td><td>&quot;RandomSearch&quot;</td><td>&quot;algorithm_info&quot;</td><td>&quot;unknown_suite&quot;</td><td>&quot;ManyAffine&quot;</td><td>100</td><td>2</td><td>3</td><td>4</td><td>4000</td><td>0.004658</td></tr><tr><td>5</td><td>&quot;RandomSearch&quot;</td><td>&quot;algorithm_info&quot;</td><td>&quot;unknown_suite&quot;</td><td>&quot;ManyAffine&quot;</td><td>100</td><td>2</td><td>4</td><td>5</td><td>4000</td><td>0.001744</td></tr><tr><td>&hellip;</td><td>&hellip;</td><td>&hellip;</td><td>&hellip;</td><td>&hellip;</td><td>&hellip;</td><td>&hellip;</td><td>&hellip;</td><td>&hellip;</td><td>&hellip;</td><td>&hellip;</td></tr><tr><td>196</td><td>&quot;RandomSearch&quot;</td><td>&quot;algorithm_info&quot;</td><td>&quot;unknown_suite&quot;</td><td>&quot;ManyAffine&quot;</td><td>100</td><td>5</td><td>95</td><td>96</td><td>10000</td><td>0.180271</td></tr><tr><td>197</td><td>&quot;RandomSearch&quot;</td><td>&quot;algorithm_info&quot;</td><td>&quot;unknown_suite&quot;</td><td>&quot;ManyAffine&quot;</td><td>100</td><td>5</td><td>96</td><td>97</td><td>10000</td><td>0.217423</td></tr><tr><td>198</td><td>&quot;RandomSearch&quot;</td><td>&quot;algorithm_info&quot;</td><td>&quot;unknown_suite&quot;</td><td>&quot;ManyAffine&quot;</td><td>100</td><td>5</td><td>97</td><td>98</td><td>10000</td><td>0.147521</td></tr><tr><td>199</td><td>&quot;RandomSearch&quot;</td><td>&quot;algorithm_info&quot;</td><td>&quot;unknown_suite&quot;</td><td>&quot;ManyAffine&quot;</td><td>100</td><td>5</td><td>98</td><td>99</td><td>10000</td><td>0.057104</td></tr><tr><td>200</td><td>&quot;RandomSearch&quot;</td><td>&quot;algorithm_info&quot;</td><td>&quot;unknown_suite&quot;</td><td>&quot;ManyAffine&quot;</td><td>100</td><td>5</td><td>99</td><td>100</td><td>10000</td><td>0.028004</td></tr></tbody></table></div>"
      ],
      "text/plain": [
       "shape: (200, 11)\n",
       "┌─────────┬───────────────┬──────────────┬──────────────┬───┬──────────┬────────┬───────┬──────────┐\n",
       "│ data_id ┆ algorithm_nam ┆ algorithm_in ┆ suite        ┆ … ┆ instance ┆ run_id ┆ evals ┆ best_y   │\n",
       "│ ---     ┆ e             ┆ fo           ┆ ---          ┆   ┆ ---      ┆ ---    ┆ ---   ┆ ---      │\n",
       "│ u64     ┆ ---           ┆ ---          ┆ str          ┆   ┆ u16      ┆ u32    ┆ u64   ┆ f64      │\n",
       "│         ┆ str           ┆ str          ┆              ┆   ┆          ┆        ┆       ┆          │\n",
       "╞═════════╪═══════════════╪══════════════╪══════════════╪═══╪══════════╪════════╪═══════╪══════════╡\n",
       "│ 1       ┆ RandomSearch  ┆ algorithm_in ┆ unknown_suit ┆ … ┆ 0        ┆ 1      ┆ 4000  ┆ 0.00091  │\n",
       "│         ┆               ┆ fo           ┆ e            ┆   ┆          ┆        ┆       ┆          │\n",
       "│ 2       ┆ RandomSearch  ┆ algorithm_in ┆ unknown_suit ┆ … ┆ 1        ┆ 2      ┆ 4000  ┆ 0.000613 │\n",
       "│         ┆               ┆ fo           ┆ e            ┆   ┆          ┆        ┆       ┆          │\n",
       "│ 3       ┆ RandomSearch  ┆ algorithm_in ┆ unknown_suit ┆ … ┆ 2        ┆ 3      ┆ 4000  ┆ 0.008406 │\n",
       "│         ┆               ┆ fo           ┆ e            ┆   ┆          ┆        ┆       ┆          │\n",
       "│ 4       ┆ RandomSearch  ┆ algorithm_in ┆ unknown_suit ┆ … ┆ 3        ┆ 4      ┆ 4000  ┆ 0.004658 │\n",
       "│         ┆               ┆ fo           ┆ e            ┆   ┆          ┆        ┆       ┆          │\n",
       "│ 5       ┆ RandomSearch  ┆ algorithm_in ┆ unknown_suit ┆ … ┆ 4        ┆ 5      ┆ 4000  ┆ 0.001744 │\n",
       "│         ┆               ┆ fo           ┆ e            ┆   ┆          ┆        ┆       ┆          │\n",
       "│ …       ┆ …             ┆ …            ┆ …            ┆ … ┆ …        ┆ …      ┆ …     ┆ …        │\n",
       "│ 196     ┆ RandomSearch  ┆ algorithm_in ┆ unknown_suit ┆ … ┆ 95       ┆ 96     ┆ 10000 ┆ 0.180271 │\n",
       "│         ┆               ┆ fo           ┆ e            ┆   ┆          ┆        ┆       ┆          │\n",
       "│ 197     ┆ RandomSearch  ┆ algorithm_in ┆ unknown_suit ┆ … ┆ 96       ┆ 97     ┆ 10000 ┆ 0.217423 │\n",
       "│         ┆               ┆ fo           ┆ e            ┆   ┆          ┆        ┆       ┆          │\n",
       "│ 198     ┆ RandomSearch  ┆ algorithm_in ┆ unknown_suit ┆ … ┆ 97       ┆ 98     ┆ 10000 ┆ 0.147521 │\n",
       "│         ┆               ┆ fo           ┆ e            ┆   ┆          ┆        ┆       ┆          │\n",
       "│ 199     ┆ RandomSearch  ┆ algorithm_in ┆ unknown_suit ┆ … ┆ 98       ┆ 99     ┆ 10000 ┆ 0.057104 │\n",
       "│         ┆               ┆ fo           ┆ e            ┆   ┆          ┆        ┆       ┆          │\n",
       "│ 200     ┆ RandomSearch  ┆ algorithm_in ┆ unknown_suit ┆ … ┆ 99       ┆ 100    ┆ 10000 ┆ 0.028004 │\n",
       "│         ┆               ┆ fo           ┆ e            ┆   ┆          ┆        ┆       ┆          │\n",
       "└─────────┴───────────────┴──────────────┴──────────────┴───┴──────────┴────────┴───────┴──────────┘"
      ]
     },
     "execution_count": 33,
     "metadata": {},
     "output_type": "execute_result"
    }
   ],
   "source": [
    "manager.overview"
   ]
  },
  {
   "cell_type": "markdown",
   "metadata": {},
   "source": [
    "Loading the data can be done using the `load` functionality. This has the option to make the data monotonic (e.g. extract the best-so-far as the performance measure) and to include the meta-data into the resulting dataframe for convenient aggregation in plots. "
   ]
  },
  {
   "cell_type": "code",
   "execution_count": 34,
   "metadata": {},
   "outputs": [],
   "source": [
    "df = manager.load(True, True)"
   ]
  },
  {
   "cell_type": "markdown",
   "metadata": {},
   "source": [
    "With this dataframe, the rest of the iohinspector can be used to analyze the optimization behavior. For example, we can filter out the 2-dimensional data and plot a basic ECDF of our random search algorithm as follows:"
   ]
  },
  {
   "cell_type": "code",
   "execution_count": null,
   "metadata": {},
   "outputs": [
    {
     "data": {
      "image/png": "[encoded data removed]",
      "text/plain": [
       "<Figure size 1600x900 with 1 Axes>"
      ]
     },
     "metadata": {},
     "output_type": "display_data"
    }
   ],
   "source": [
    "_ = iohinspector.plot.plot_ecdf(df.filter(pl.col(\"dimension\") == 2), y_max=100, y_min=1e-8)"
   ]
  },
  {
   "cell_type": "markdown",
   "metadata": {},
   "source": [
    "For the competition, the performance is judged based on the Area Over the Convergence Curve metric (which is equivalent to the area under the ECDF above). Specifically, we use bounds 10^2 and 10^-8. "
   ]
  },
  {
   "cell_type": "code",
   "execution_count": 48,
   "metadata": {},
   "outputs": [
    {
     "data": {
      "text/html": [
       "<div><style>\n",
       ".dataframe > thead > tr,\n",
       ".dataframe > tbody > tr {\n",
       "  text-align: right;\n",
       "  white-space: pre-wrap;\n",
       "}\n",
       "</style>\n",
       "<small>shape: (1, 2)</small><table border=\"1\" class=\"dataframe\"><thead><tr><th>algorithm_name</th><th>AOCC</th></tr><tr><td>str</td><td>f64</td></tr></thead><tbody><tr><td>&quot;RandomSearch&quot;</td><td>0.425478</td></tr></tbody></table></div>"
      ],
      "text/plain": [
       "shape: (1, 2)\n",
       "┌────────────────┬──────────┐\n",
       "│ algorithm_name ┆ AOCC     │\n",
       "│ ---            ┆ ---      │\n",
       "│ str            ┆ f64      │\n",
       "╞════════════════╪══════════╡\n",
       "│ RandomSearch   ┆ 0.425478 │\n",
       "└────────────────┴──────────┘"
      ]
     },
     "execution_count": 48,
     "metadata": {},
     "output_type": "execute_result"
    }
   ],
   "source": [
    "df_eaf = iohinspector.metrics.transform_fval(df, 1e-8, 1e2)\n",
    "iohinspector.metrics.get_aocc(df_eaf.filter(pl.col(\"dimension\") == 2), 4000, group_cols=['algorithm_name'])"
   ]
  },
  {
   "cell_type": "markdown",
   "metadata": {},
   "source": [
    "## Step 6: Comparing to baselines\n",
    "\n",
    "For this competition, we provide a set of baseline algorithm data, which consist of 5 algorithms with 50 independent runs on each problem. This data can be loaded from https://doi.org/10.5281/zenodo.8208572 (`data.zip`) and incorporated into the IOHinspector analysis as usual. \n",
    "\n",
    "Note: since the baseline data contains a large amount of runs, processing it fully can take some time"
   ]
  },
  {
   "cell_type": "code",
   "execution_count": 49,
   "metadata": {},
   "outputs": [],
   "source": [
    "manager_comp = iohinspector.DataManager()\n",
    "manager_comp.add_folder(\"RS_Test\")\n",
    "manager_comp.add_folder(\"ERADS_QuantumFluxUltraRefined\")\n",
    "manager_comp.add_folder(\"MABBOB_Baselines\")\n"
   ]
  },
  {
   "cell_type": "code",
   "execution_count": null,
   "metadata": {},
   "outputs": [],
   "source": [
    "df = manager_comp.load(True, True, ['dimension', 'algorithm_name', 'instance'])\n",
    "df_eaf = iohinspector.metrics.transform_fval(df, 1e-8, 1e2)\n",
    "res_2d = iohinspector.metrics.get_aocc(df_eaf, 2*2000, group_cols=['algorithm_name'])\n",
    "res_5d = iohinspector.metrics.get_aocc(df_eaf, 5*2000, group_cols=['algorithm_name'])"
   ]
  },
  {
   "cell_type": "markdown",
   "metadata": {},
   "source": []
  }
 ],
 "metadata": {
  "kernelspec": {
   "display_name": "Python 3 (ipykernel)",
   "language": "python",
   "name": "python3"
  },
  "language_info": {
   "codemirror_mode": {
    "name": "ipython",
    "version": 3
   },
   "file_extension": ".py",
   "mimetype": "text/x-python",
   "name": "python",
   "nbconvert_exporter": "python",
   "pygments_lexer": "ipython3",
   "version": "3.10.0"
  }
 },
 "nbformat": 4,
 "nbformat_minor": 4
}
